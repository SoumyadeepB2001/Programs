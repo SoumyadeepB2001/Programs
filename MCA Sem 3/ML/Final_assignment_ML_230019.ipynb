{
 "cells": [
  {
   "cell_type": "markdown",
   "metadata": {
    "id": "fadprRzcxAzh"
   },
   "source": [
    "NAME: Soumyadeep Banerjee\n",
    "\n",
    "\n",
    "---\n",
    "\n",
    "\n",
    "CLASS ROLL: ##\n",
    "\n",
    "\n",
    "---\n",
    "\n",
    "\n",
    "UNIVERSITY ROLL: 90/MCA NO: 2300##\n",
    "\n",
    "\n",
    "---\n",
    "\n",
    "\n",
    "STREAM: MCA 3RD SEM\n",
    "\n",
    "\n",
    "---\n",
    "\n"
   ]
  },
  {
   "cell_type": "code",
   "execution_count": 36,
   "metadata": {
    "executionInfo": {
     "elapsed": 717,
     "status": "ok",
     "timestamp": 1738319348212,
     "user": {
      "displayName": "Soumyadeep Banerjee",
      "userId": "18079072267991000743"
     },
     "user_tz": -330
    },
    "id": "pfA9FtxLFA6F"
   },
   "outputs": [],
   "source": [
    "import numpy as np\n",
    "import pandas as pd\n",
    "\n",
    "import matplotlib.pyplot as plt\n",
    "import seaborn as sns\n",
    "\n",
    "from sklearn.model_selection import train_test_split\n",
    "from sklearn.ensemble import RandomForestClassifier\n",
    "\n",
    "from sklearn.metrics import accuracy_score\n",
    "from sklearn.model_selection import cross_val_score"
   ]
  },
  {
   "cell_type": "code",
   "execution_count": 37,
   "metadata": {
    "colab": {
     "base_uri": "https://localhost:8080/"
    },
    "executionInfo": {
     "elapsed": 4,
     "status": "ok",
     "timestamp": 1738319348649,
     "user": {
      "displayName": "Soumyadeep Banerjee",
      "userId": "18079072267991000743"
     },
     "user_tz": -330
    },
    "id": "zNkmFfJ_uxcC",
    "outputId": "7a219587-ad57-4bbd-becc-e6e3379f7aca"
   },
   "outputs": [
    {
     "data": {
      "text/plain": [
       "(300, 52)"
      ]
     },
     "execution_count": 37,
     "metadata": {},
     "output_type": "execute_result"
    }
   ],
   "source": [
    "ds = pd.read_csv('Acoustic_train.csv')\n",
    "ds.shape"
   ]
  },
  {
   "cell_type": "code",
   "execution_count": 38,
   "metadata": {
    "executionInfo": {
     "elapsed": 2,
     "status": "ok",
     "timestamp": 1738319348649,
     "user": {
      "displayName": "Soumyadeep Banerjee",
      "userId": "18079072267991000743"
     },
     "user_tz": -330
    },
    "id": "347QgbERFlw4"
   },
   "outputs": [],
   "source": [
    "X = ds.iloc[:, 2:]\n",
    "y = ds.iloc[:, 1]"
   ]
  },
  {
   "cell_type": "code",
   "execution_count": 39,
   "metadata": {
    "executionInfo": {
     "elapsed": 2,
     "status": "ok",
     "timestamp": 1738319348649,
     "user": {
      "displayName": "Soumyadeep Banerjee",
      "userId": "18079072267991000743"
     },
     "user_tz": -330
    },
    "id": "0-w-VqZkIGB4"
   },
   "outputs": [],
   "source": [
    "X_train,X_test,y_train,y_test = train_test_split(X,y,test_size=0.2,random_state=42)"
   ]
  },
  {
   "cell_type": "code",
   "execution_count": 40,
   "metadata": {
    "executionInfo": {
     "elapsed": 2,
     "status": "ok",
     "timestamp": 1738319348649,
     "user": {
      "displayName": "Soumyadeep Banerjee",
      "userId": "18079072267991000743"
     },
     "user_tz": -330
    },
    "id": "I_ScjcBKvAay"
   },
   "outputs": [],
   "source": [
    "rf = RandomForestClassifier(max_samples = 0.75, max_features = 'log2', max_depth = 10, n_estimators = 60, bootstrap = True, min_samples_leaf = 2, min_samples_split = 5, random_state=42)"
   ]
  },
  {
   "cell_type": "code",
   "execution_count": 41,
   "metadata": {
    "colab": {
     "base_uri": "https://localhost:8080/"
    },
    "executionInfo": {
     "elapsed": 1581,
     "status": "ok",
     "timestamp": 1738319350229,
     "user": {
      "displayName": "Soumyadeep Banerjee",
      "userId": "18079072267991000743"
     },
     "user_tz": -330
    },
    "id": "GfUqfBS5vGZp",
    "outputId": "c93034a3-d729-4aec-9766-cc11852df1b7"
   },
   "outputs": [
    {
     "name": "stdout",
     "output_type": "stream",
     "text": [
      "Training Accuracy: 0.9792\n",
      "Validation Accuracy: 0.8333\n",
      "Cross-validation Scores: [0.76315789 0.92105263 0.71052632 0.76315789 0.86486486 0.86486486\n",
      " 0.86486486 0.64864865]\n",
      "Mean CV Score: 0.8001\n"
     ]
    }
   ],
   "source": [
    "rf.fit(X_train,y_train)\n",
    "y_train_pred = rf.predict(X_train)\n",
    "train_score = accuracy_score(y_train, y_train_pred)\n",
    "y_pred = rf.predict(X_test)\n",
    "val_score = accuracy_score(y_test, y_pred)\n",
    "cv_score = cross_val_score(rf, X, y, cv=8)\n",
    "\n",
    "# Print Scores\n",
    "print(f\"Training Accuracy: {train_score:.4f}\")\n",
    "print(f\"Validation Accuracy: {val_score:.4f}\")\n",
    "print(f\"Cross-validation Scores: {cv_score}\")\n",
    "print(f\"Mean CV Score: {cv_score.mean():.4f}\")"
   ]
  },
  {
   "cell_type": "code",
   "execution_count": 42,
   "metadata": {
    "executionInfo": {
     "elapsed": 3,
     "status": "ok",
     "timestamp": 1738319350229,
     "user": {
      "displayName": "Soumyadeep Banerjee",
      "userId": "18079072267991000743"
     },
     "user_tz": -330
    },
    "id": "naYNhDHnvcTi"
   },
   "outputs": [],
   "source": [
    "new_ds = pd.read_csv('Acoustic_test_no_class.csv')\n",
    "X_new = new_ds.iloc[:, 1:]\n",
    "y_new_pred = rf.predict(X_new)\n",
    "new_ds['Predicted_Label'] = y_new_pred\n",
    "new_ds.to_csv('Acoustic_test_with_predictions.csv', index=False)"
   ]
  }
 ],
 "metadata": {
  "colab": {
   "authorship_tag": "ABX9TyN0dqjhN22IhjzQDHo/pMuf",
   "provenance": []
  },
  "kernelspec": {
   "display_name": "Python 3",
   "name": "python3"
  },
  "language_info": {
   "name": "python"
  }
 },
 "nbformat": 4,
 "nbformat_minor": 0
}
